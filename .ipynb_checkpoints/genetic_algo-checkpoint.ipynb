{
 "cells": [
  {
   "cell_type": "code",
   "execution_count": 0,
   "metadata": {
    "colab": {},
    "colab_type": "code",
    "id": "pzowbFa-zTGn"
   },
   "outputs": [],
   "source": [
    "from random import randint"
   ]
  },
  {
   "cell_type": "code",
   "execution_count": 0,
   "metadata": {
    "colab": {},
    "colab_type": "code",
    "id": "Hlk5KwUfz4K_"
   },
   "outputs": [],
   "source": [
    "def individual(length, min, max):\n",
    "  'Create a member of the population'\n",
    "  return [randint(min, max) for x in range(0,5)]"
   ]
  },
  {
   "cell_type": "code",
   "execution_count": 39,
   "metadata": {
    "colab": {
     "base_uri": "https://localhost:8080/",
     "height": 34
    },
    "colab_type": "code",
    "id": "tYe1PLkt0WJp",
    "outputId": "7d769592-4483-4a53-8cac-d14da2e6e091"
   },
   "outputs": [
    {
     "data": {
      "text/plain": [
       "[53, 70, 14, 10, 76]"
      ]
     },
     "execution_count": 39,
     "metadata": {
      "tags": []
     },
     "output_type": "execute_result"
    }
   ],
   "source": [
    "individual(5,0,100)"
   ]
  },
  {
   "cell_type": "code",
   "execution_count": 40,
   "metadata": {
    "colab": {
     "base_uri": "https://localhost:8080/",
     "height": 34
    },
    "colab_type": "code",
    "id": "zrI3aqat1tXv",
    "outputId": "df0b8892-1d40-4528-ec6e-3575e8351bd9"
   },
   "outputs": [
    {
     "data": {
      "text/plain": [
       "[40, 50, 99, 96, 88]"
      ]
     },
     "execution_count": 40,
     "metadata": {
      "tags": []
     },
     "output_type": "execute_result"
    }
   ],
   "source": [
    "individual(5,0,100)"
   ]
  },
  {
   "cell_type": "code",
   "execution_count": 0,
   "metadata": {
    "colab": {},
    "colab_type": "code",
    "id": "E74H78SF1ECb"
   },
   "outputs": [],
   "source": [
    "def population(count, length, min, max):\n",
    "  return [individual(length, min, max) for x in range(0, count)]"
   ]
  },
  {
   "cell_type": "code",
   "execution_count": 42,
   "metadata": {
    "colab": {
     "base_uri": "https://localhost:8080/",
     "height": 102
    },
    "colab_type": "code",
    "id": "0TH0QaPK2P0d",
    "outputId": "372cabce-4ed9-4b34-bafe-b23dd989adef"
   },
   "outputs": [
    {
     "data": {
      "text/plain": [
       "[[73, 60, 53, 63, 11],\n",
       " [67, 38, 18, 29, 63],\n",
       " [32, 31, 62, 69, 97],\n",
       " [94, 32, 39, 39, 89],\n",
       " [27, 78, 12, 47, 5]]"
      ]
     },
     "execution_count": 42,
     "metadata": {
      "tags": []
     },
     "output_type": "execute_result"
    }
   ],
   "source": [
    "population(5,5,0,100)"
   ]
  },
  {
   "cell_type": "code",
   "execution_count": 0,
   "metadata": {
    "colab": {},
    "colab_type": "code",
    "id": "bGGn4GNp2Sxb"
   },
   "outputs": [],
   "source": [
    "from operator import add\n",
    "import functools\n",
    "\n",
    "def fitness(individual, target):\n",
    "  sum = functools.reduce(add, individual, 0)\n",
    "  return abs(target - sum)"
   ]
  },
  {
   "cell_type": "code",
   "execution_count": 44,
   "metadata": {
    "colab": {
     "base_uri": "https://localhost:8080/",
     "height": 34
    },
    "colab_type": "code",
    "id": "-GetnJE13MnV",
    "outputId": "2f02cfff-6742-4006-a302-894f21680cc7"
   },
   "outputs": [
    {
     "name": "stdout",
     "output_type": "stream",
     "text": [
      "[81, 50, 11, 88, 48]\n"
     ]
    }
   ],
   "source": [
    "x = individual(5,0,100)\n",
    "print(x)"
   ]
  },
  {
   "cell_type": "code",
   "execution_count": 45,
   "metadata": {
    "colab": {
     "base_uri": "https://localhost:8080/",
     "height": 34
    },
    "colab_type": "code",
    "id": "6IJPHacE3UQE",
    "outputId": "90311971-245e-434e-b63f-79bbbe96dbeb"
   },
   "outputs": [
    {
     "data": {
      "text/plain": [
       "78"
      ]
     },
     "execution_count": 45,
     "metadata": {
      "tags": []
     },
     "output_type": "execute_result"
    }
   ],
   "source": [
    "fitness(x, 200)"
   ]
  },
  {
   "cell_type": "code",
   "execution_count": 0,
   "metadata": {
    "colab": {},
    "colab_type": "code",
    "id": "neMacwho3Xab"
   },
   "outputs": [],
   "source": [
    "def grade(pop, target):\n",
    "  summed = functools.reduce(add, (fitness(x, target) for x in pop), 0)\n",
    "  return summed / (len(pop) * 1.0)"
   ]
  },
  {
   "cell_type": "code",
   "execution_count": 0,
   "metadata": {
    "colab": {},
    "colab_type": "code",
    "id": "-cQIVf7wBhey"
   },
   "outputs": [],
   "source": [
    "pop = population(3,5,0,100)"
   ]
  },
  {
   "cell_type": "code",
   "execution_count": 48,
   "metadata": {
    "colab": {
     "base_uri": "https://localhost:8080/",
     "height": 34
    },
    "colab_type": "code",
    "id": "Q4NTN5I_Blvi",
    "outputId": "20f7600e-30ce-4509-9ff1-d23692934d9b"
   },
   "outputs": [
    {
     "data": {
      "text/plain": [
       "[[39, 19, 64, 43, 5], [25, 41, 84, 76, 89], [71, 92, 19, 71, 78]]"
      ]
     },
     "execution_count": 48,
     "metadata": {
      "tags": []
     },
     "output_type": "execute_result"
    }
   ],
   "source": [
    "pop"
   ]
  },
  {
   "cell_type": "code",
   "execution_count": 49,
   "metadata": {
    "colab": {
     "base_uri": "https://localhost:8080/",
     "height": 34
    },
    "colab_type": "code",
    "id": "j7G4z5lZBnzy",
    "outputId": "1873b2de-e27d-4fc5-8a60-5f7164cd8a29"
   },
   "outputs": [
    {
     "data": {
      "text/plain": [
       "92.0"
      ]
     },
     "execution_count": 49,
     "metadata": {
      "tags": []
     },
     "output_type": "execute_result"
    }
   ],
   "source": [
    "target = 200\n",
    "grade(pop, target)"
   ]
  },
  {
   "cell_type": "code",
   "execution_count": 50,
   "metadata": {
    "colab": {
     "base_uri": "https://localhost:8080/",
     "height": 34
    },
    "colab_type": "code",
    "id": "JS0Vf73zE428",
    "outputId": "c5ea8c50-ea96-4204-aded-e5de2888bceb"
   },
   "outputs": [
    {
     "data": {
      "text/plain": [
       "0.1795779575874591"
      ]
     },
     "execution_count": 50,
     "metadata": {
      "tags": []
     },
     "output_type": "execute_result"
    }
   ],
   "source": [
    "from random import random, randint\n",
    "random()"
   ]
  },
  {
   "cell_type": "code",
   "execution_count": 0,
   "metadata": {
    "colab": {},
    "colab_type": "code",
    "id": "vv5CUb6BGfiu"
   },
   "outputs": [],
   "source": [
    "def evolve(pop, target, retain=0.2, random_select=0.5, mutate=0.01):\n",
    "  graded = [(fitness(x, target), x) for x in pop]  # Find fitness of individual in the population\n",
    "  graded = [ x[1] for x in sorted(graded)]  # Order the individual in order of fitness\n",
    "  retain_length = int(len(graded)*retain)  # Find how many members to make parent\n",
    "  parents = graded[:retain_length]  # Select the parent from the population\n",
    "  \n",
    "  #  Randomly add other individuals to promote genetic diversity\n",
    "  for individual in graded[:retain_length]:\n",
    "    if random_select > random():\n",
    "      parent.append(individual)\n",
    "      \n",
    "      \n",
    "  #  Mutate some individual\n",
    "  for individual in parents:\n",
    "    if mutate > random():\n",
    "      pos_to_mutate = randint(0, len(individual)-1)\n",
    "      individual[pos_to_mutate] = randint(min(individual), max(individual))\n",
    "\n",
    "  #  Crossover parents to create children\n",
    "  parents_length = len(parents)\n",
    "  desired_length = len(pop) - parents_length\n",
    "  children = []\n",
    "  \n",
    "  while len(children) < desired_length:\n",
    "    male = randint(0, parents_length-1)\n",
    "    female = randint(0, parents_length-1)\n",
    "    if male != female:\n",
    "      male = parents[male]\n",
    "      female = parents[female]\n",
    "      half = int(len(male) / 2)\n",
    "      child = male[:half] + female[half:]\n",
    "      children.append(child)\n",
    "      \n",
    "  parents.extend(children)\n",
    "  return parents"
   ]
  },
  {
   "cell_type": "code",
   "execution_count": 0,
   "metadata": {
    "colab": {},
    "colab_type": "code",
    "id": "w2vhW7tKGjCH"
   },
   "outputs": [],
   "source": [
    "v_pop = population(100, 5, 0, 100)"
   ]
  },
  {
   "cell_type": "code",
   "execution_count": 0,
   "metadata": {
    "colab": {},
    "colab_type": "code",
    "id": "FH5nN7idKeho"
   },
   "outputs": [],
   "source": [
    "target = 201"
   ]
  },
  {
   "cell_type": "code",
   "execution_count": 0,
   "metadata": {
    "colab": {},
    "colab_type": "code",
    "id": "nECLWeUzI8Yn"
   },
   "outputs": [],
   "source": [
    "fitness_history = [grade(v_pop, target)]"
   ]
  },
  {
   "cell_type": "code",
   "execution_count": 64,
   "metadata": {
    "colab": {
     "base_uri": "https://localhost:8080/",
     "height": 34
    },
    "colab_type": "code",
    "id": "czTHabW4I-J-",
    "outputId": "599651d1-f184-4216-9746-1883ad005766"
   },
   "outputs": [
    {
     "data": {
      "text/plain": [
       "[59.19]"
      ]
     },
     "execution_count": 64,
     "metadata": {
      "tags": []
     },
     "output_type": "execute_result"
    }
   ],
   "source": [
    "fitness_history"
   ]
  },
  {
   "cell_type": "code",
   "execution_count": 0,
   "metadata": {
    "colab": {},
    "colab_type": "code",
    "id": "WDL-LXmoJRVr"
   },
   "outputs": [],
   "source": [
    "for i in range(0, 200):\n",
    "  v_pop = evolve(v_pop, target)\n",
    "  fitness_history.append(grade(v_pop, target))"
   ]
  },
  {
   "cell_type": "code",
   "execution_count": 72,
   "metadata": {
    "colab": {
     "base_uri": "https://localhost:8080/",
     "height": 5134
    },
    "colab_type": "code",
    "id": "Hn7nIqKIJqPT",
    "outputId": "522e9e23-20ae-490d-ef56-e778d860e334"
   },
   "outputs": [
    {
     "data": {
      "text/plain": [
       "[59.19,\n",
       " 37.05,\n",
       " 21.31,\n",
       " 19.55,\n",
       " 14.86,\n",
       " 13.02,\n",
       " 15.49,\n",
       " 11.0,\n",
       " 0.0,\n",
       " 2.05,\n",
       " 0.0,\n",
       " 0.0,\n",
       " 0.0,\n",
       " 0.0,\n",
       " 0.0,\n",
       " 0.0,\n",
       " 0.0,\n",
       " 0.72,\n",
       " 0.0,\n",
       " 0.0,\n",
       " 0.28,\n",
       " 0.0,\n",
       " 0.0,\n",
       " 0.0,\n",
       " 0.0,\n",
       " 0.0,\n",
       " 0.0,\n",
       " 0.0,\n",
       " 0.0,\n",
       " 0.0,\n",
       " 0.0,\n",
       " 0.0,\n",
       " 0.0,\n",
       " 0.0,\n",
       " 0.0,\n",
       " 0.42,\n",
       " 0.0,\n",
       " 0.0,\n",
       " 0.22,\n",
       " 0.56,\n",
       " 2.1,\n",
       " 0.0,\n",
       " 0.45,\n",
       " 0.0,\n",
       " 0.0,\n",
       " 0.0,\n",
       " 0.0,\n",
       " 0.0,\n",
       " 0.0,\n",
       " 0.0,\n",
       " 0.0,\n",
       " 0.0,\n",
       " 0.0,\n",
       " 0.0,\n",
       " 0.0,\n",
       " 0.0,\n",
       " 0.0,\n",
       " 0.0,\n",
       " 1.96,\n",
       " 0.0,\n",
       " 0.0,\n",
       " 0.0,\n",
       " 0.0,\n",
       " 0.0,\n",
       " 0.12,\n",
       " 0.05,\n",
       " 0.0,\n",
       " 0.0,\n",
       " 0.0,\n",
       " 0.0,\n",
       " 0.0,\n",
       " 0.0,\n",
       " 0.0,\n",
       " 0.0,\n",
       " 0.0,\n",
       " 1.5,\n",
       " 0.0,\n",
       " 0.0,\n",
       " 0.0,\n",
       " 0.0,\n",
       " 0.0,\n",
       " 0.0,\n",
       " 0.0,\n",
       " 0.0,\n",
       " 1.02,\n",
       " 0.09,\n",
       " 0.0,\n",
       " 0.0,\n",
       " 0.0,\n",
       " 0.0,\n",
       " 0.0,\n",
       " 1.04,\n",
       " 0.0,\n",
       " 0.0,\n",
       " 0.0,\n",
       " 0.0,\n",
       " 0.66,\n",
       " 0.0,\n",
       " 0.0,\n",
       " 0.0,\n",
       " 1.62,\n",
       " 0.0,\n",
       " 0.0,\n",
       " 1.52,\n",
       " 1.65,\n",
       " 0.0,\n",
       " 0.0,\n",
       " 0.49,\n",
       " 0.0,\n",
       " 0.0,\n",
       " 0.36,\n",
       " 0.0,\n",
       " 0.0,\n",
       " 0.0,\n",
       " 0.0,\n",
       " 0.0,\n",
       " 0.76,\n",
       " 0.0,\n",
       " 0.0,\n",
       " 0.0,\n",
       " 0.0,\n",
       " 0.0,\n",
       " 0.0,\n",
       " 0.0,\n",
       " 0.0,\n",
       " 0.0,\n",
       " 0.0,\n",
       " 0.0,\n",
       " 0.0,\n",
       " 0.0,\n",
       " 0.0,\n",
       " 0.0,\n",
       " 0.0,\n",
       " 0.0,\n",
       " 0.0,\n",
       " 1.1,\n",
       " 2.16,\n",
       " 0.0,\n",
       " 0.0,\n",
       " 0.0,\n",
       " 0.0,\n",
       " 0.0,\n",
       " 0.0,\n",
       " 0.0,\n",
       " 0.0,\n",
       " 0.0,\n",
       " 0.0,\n",
       " 0.0,\n",
       " 0.0,\n",
       " 1.02,\n",
       " 0.0,\n",
       " 0.0,\n",
       " 0.0,\n",
       " 0.0,\n",
       " 0.0,\n",
       " 0.0,\n",
       " 0.0,\n",
       " 0.0,\n",
       " 0.0,\n",
       " 0.15,\n",
       " 0.0,\n",
       " 0.0,\n",
       " 1.12,\n",
       " 2.5,\n",
       " 0.0,\n",
       " 0.0,\n",
       " 0.0,\n",
       " 0.0,\n",
       " 0.96,\n",
       " 0.0,\n",
       " 0.0,\n",
       " 0.0,\n",
       " 0.0,\n",
       " 0.0,\n",
       " 0.0,\n",
       " 0.0,\n",
       " 0.0,\n",
       " 0.0,\n",
       " 0.0,\n",
       " 0.0,\n",
       " 0.0,\n",
       " 0.0,\n",
       " 0.0,\n",
       " 0.0,\n",
       " 0.0,\n",
       " 0.0,\n",
       " 0.0,\n",
       " 0.0,\n",
       " 0.0,\n",
       " 0.0,\n",
       " 1.2,\n",
       " 0.0,\n",
       " 0.28,\n",
       " 0.0,\n",
       " 0.0,\n",
       " 0.0,\n",
       " 0.14,\n",
       " 0.0,\n",
       " 0.0,\n",
       " 0.0,\n",
       " 0.0,\n",
       " 0.0,\n",
       " 0.0,\n",
       " 0.0,\n",
       " 0.0,\n",
       " 1.54,\n",
       " 0.0,\n",
       " 0.0,\n",
       " 0.0,\n",
       " 0.0,\n",
       " 0.0,\n",
       " 0.06,\n",
       " 0.0,\n",
       " 0.0,\n",
       " 0.0,\n",
       " 0.0,\n",
       " 0.0,\n",
       " 0.0,\n",
       " 0.0,\n",
       " 0.0,\n",
       " 2.16,\n",
       " 0.0,\n",
       " 0.0,\n",
       " 0.0,\n",
       " 0.0,\n",
       " 0.0,\n",
       " 0.0,\n",
       " 0.0,\n",
       " 0.0,\n",
       " 0.0,\n",
       " 0.0,\n",
       " 0.0,\n",
       " 0.0,\n",
       " 0.0,\n",
       " 0.0,\n",
       " 0.48,\n",
       " 0.0,\n",
       " 0.0,\n",
       " 1.44,\n",
       " 0.0,\n",
       " 3.78,\n",
       " 0.15,\n",
       " 0.0,\n",
       " 0.0,\n",
       " 0.0,\n",
       " 0.0,\n",
       " 0.05,\n",
       " 0.28,\n",
       " 0.0,\n",
       " 0.0,\n",
       " 0.0,\n",
       " 0.0,\n",
       " 0.44,\n",
       " 0.0,\n",
       " 0.0,\n",
       " 0.0,\n",
       " 0.0,\n",
       " 0.0,\n",
       " 3.96,\n",
       " 0.0,\n",
       " 0.16,\n",
       " 0.0,\n",
       " 0.0,\n",
       " 0.0,\n",
       " 0.0,\n",
       " 0.0,\n",
       " 0.0,\n",
       " 0.0,\n",
       " 0.0,\n",
       " 0.0,\n",
       " 0.0,\n",
       " 0.0,\n",
       " 0.0,\n",
       " 0.0,\n",
       " 0.0,\n",
       " 0.0,\n",
       " 0.0,\n",
       " 0.0,\n",
       " 0.0,\n",
       " 0.0,\n",
       " 0.0,\n",
       " 0.0,\n",
       " 0.0,\n",
       " 0.0,\n",
       " 0.0,\n",
       " 0.0,\n",
       " 0.0,\n",
       " 0.0,\n",
       " 0.0,\n",
       " 0.0,\n",
       " 0.0,\n",
       " 0.0,\n",
       " 0.52,\n",
       " 0.0,\n",
       " 0.0,\n",
       " 0.0,\n",
       " 0.0,\n",
       " 0.44,\n",
       " 0.0,\n",
       " 0.0,\n",
       " 1.32]"
      ]
     },
     "execution_count": 72,
     "metadata": {
      "tags": []
     },
     "output_type": "execute_result"
    }
   ],
   "source": [
    "fitness_history"
   ]
  },
  {
   "cell_type": "code",
   "execution_count": 73,
   "metadata": {
    "colab": {
     "base_uri": "https://localhost:8080/",
     "height": 1717
    },
    "colab_type": "code",
    "id": "w8iGFKnKKCvE",
    "outputId": "5248c47f-f2c8-4af3-af8f-a7c0d867138d"
   },
   "outputs": [
    {
     "data": {
      "text/plain": [
       "[[41, 13, 67, 51, 29],\n",
       " [41, 13, 67, 51, 29],\n",
       " [41, 13, 67, 51, 29],\n",
       " [41, 13, 67, 51, 29],\n",
       " [41, 13, 67, 51, 29],\n",
       " [41, 13, 67, 51, 29],\n",
       " [41, 13, 67, 51, 29],\n",
       " [41, 13, 67, 51, 29],\n",
       " [41, 13, 67, 51, 29],\n",
       " [41, 13, 67, 51, 29],\n",
       " [41, 13, 67, 51, 29],\n",
       " [41, 13, 67, 51, 29],\n",
       " [41, 13, 67, 51, 29],\n",
       " [41, 13, 67, 51, 62],\n",
       " [41, 13, 67, 51, 29],\n",
       " [41, 13, 67, 51, 29],\n",
       " [41, 13, 67, 51, 29],\n",
       " [41, 13, 67, 51, 29],\n",
       " [41, 13, 67, 51, 29],\n",
       " [41, 13, 67, 51, 29],\n",
       " [41, 13, 67, 51, 29],\n",
       " [41, 13, 67, 51, 29],\n",
       " [41, 13, 67, 51, 29],\n",
       " [41, 13, 67, 51, 62],\n",
       " [41, 13, 67, 51, 29],\n",
       " [41, 13, 67, 51, 29],\n",
       " [41, 13, 67, 51, 29],\n",
       " [41, 13, 67, 51, 29],\n",
       " [41, 13, 67, 51, 29],\n",
       " [41, 13, 67, 51, 29],\n",
       " [41, 13, 67, 51, 29],\n",
       " [41, 13, 67, 51, 29],\n",
       " [41, 13, 67, 51, 29],\n",
       " [41, 13, 67, 51, 29],\n",
       " [41, 13, 67, 51, 29],\n",
       " [41, 13, 67, 51, 29],\n",
       " [41, 13, 67, 51, 29],\n",
       " [41, 13, 67, 51, 29],\n",
       " [41, 13, 67, 51, 29],\n",
       " [41, 13, 67, 51, 29],\n",
       " [41, 13, 67, 51, 29],\n",
       " [41, 13, 67, 51, 29],\n",
       " [41, 13, 67, 51, 29],\n",
       " [41, 13, 67, 51, 29],\n",
       " [41, 13, 67, 51, 29],\n",
       " [41, 13, 67, 51, 29],\n",
       " [41, 13, 67, 51, 29],\n",
       " [41, 13, 67, 51, 29],\n",
       " [41, 13, 67, 51, 29],\n",
       " [41, 13, 67, 51, 29],\n",
       " [41, 13, 67, 51, 29],\n",
       " [41, 13, 67, 51, 29],\n",
       " [41, 13, 67, 51, 29],\n",
       " [41, 13, 67, 51, 29],\n",
       " [41, 13, 67, 51, 29],\n",
       " [41, 13, 67, 51, 29],\n",
       " [41, 13, 67, 51, 29],\n",
       " [41, 13, 67, 51, 29],\n",
       " [41, 13, 67, 51, 29],\n",
       " [41, 13, 67, 51, 29],\n",
       " [41, 13, 67, 51, 29],\n",
       " [41, 13, 67, 51, 29],\n",
       " [41, 13, 67, 51, 29],\n",
       " [41, 13, 67, 51, 29],\n",
       " [41, 13, 67, 51, 29],\n",
       " [41, 13, 67, 51, 29],\n",
       " [41, 13, 67, 51, 29],\n",
       " [41, 13, 67, 51, 29],\n",
       " [41, 13, 67, 51, 29],\n",
       " [41, 13, 67, 51, 29],\n",
       " [41, 13, 67, 51, 29],\n",
       " [41, 13, 67, 51, 29],\n",
       " [41, 13, 67, 51, 29],\n",
       " [41, 13, 67, 51, 29],\n",
       " [41, 13, 67, 51, 29],\n",
       " [41, 13, 67, 51, 29],\n",
       " [41, 13, 67, 51, 29],\n",
       " [41, 13, 67, 51, 29],\n",
       " [41, 13, 67, 51, 29],\n",
       " [41, 13, 67, 51, 29],\n",
       " [41, 13, 67, 51, 29],\n",
       " [41, 13, 67, 51, 29],\n",
       " [41, 13, 67, 51, 29],\n",
       " [41, 13, 67, 51, 29],\n",
       " [41, 13, 67, 51, 29],\n",
       " [41, 13, 67, 51, 29],\n",
       " [41, 13, 67, 51, 29],\n",
       " [41, 13, 67, 51, 29],\n",
       " [41, 13, 67, 51, 29],\n",
       " [41, 13, 67, 51, 29],\n",
       " [41, 13, 67, 51, 62],\n",
       " [41, 13, 67, 51, 29],\n",
       " [41, 13, 67, 51, 29],\n",
       " [41, 13, 67, 51, 29],\n",
       " [41, 13, 67, 51, 62],\n",
       " [41, 13, 67, 51, 29],\n",
       " [41, 13, 67, 51, 29],\n",
       " [41, 13, 67, 51, 29],\n",
       " [41, 13, 67, 51, 29],\n",
       " [41, 13, 67, 51, 29]]"
      ]
     },
     "execution_count": 73,
     "metadata": {
      "tags": []
     },
     "output_type": "execute_result"
    }
   ],
   "source": [
    "v_pop"
   ]
  },
  {
   "cell_type": "code",
   "execution_count": 79,
   "metadata": {
    "colab": {
     "base_uri": "https://localhost:8080/",
     "height": 102
    },
    "colab_type": "code",
    "id": "i946gcGhKFf0",
    "outputId": "648df02e-4456-41d9-9c62-4b076509540f"
   },
   "outputs": [
    {
     "name": "stdout",
     "output_type": "stream",
     "text": [
      "[41, 13, 67, 51, 62]\n",
      "[41, 13, 67, 51, 62]\n",
      "[41, 13, 67, 51, 62]\n",
      "[41, 13, 67, 51, 62]\n",
      "96.0\n"
     ]
    }
   ],
   "source": [
    "vishal = 0\n",
    "for x in v_pop:\n",
    "  if sum(x) == target:\n",
    "    vishal += 1\n",
    "  else:\n",
    "    print(x)\n",
    "  \n",
    "print(vishal/len(v_pop)*100)"
   ]
  }
 ],
 "metadata": {
  "colab": {
   "collapsed_sections": [],
   "name": "genetic_algo.ipynb",
   "provenance": [],
   "version": "0.3.2"
  },
  "kernelspec": {
   "display_name": "Python 3",
   "language": "python",
   "name": "python3"
  }
 },
 "nbformat": 4,
 "nbformat_minor": 1
}
