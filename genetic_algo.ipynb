{
  "nbformat": 4,
  "nbformat_minor": 0,
  "metadata": {
    "colab": {
      "name": "genetic_algo.ipynb",
      "version": "0.3.2",
      "provenance": [],
      "collapsed_sections": []
    },
    "kernelspec": {
      "name": "python3",
      "display_name": "Python 3"
    }
  },
  "cells": [
    {
      "metadata": {
        "id": "pzowbFa-zTGn",
        "colab_type": "code",
        "colab": {}
      },
      "cell_type": "code",
      "source": [
        "from random import randint"
      ],
      "execution_count": 0,
      "outputs": []
    },
    {
      "metadata": {
        "id": "Hlk5KwUfz4K_",
        "colab_type": "code",
        "colab": {}
      },
      "cell_type": "code",
      "source": [
        "def individual(length, min, max):\n",
        "  'Create a member of the population'\n",
        "  return [randint(min, max) for x in range(0,length)]"
      ],
      "execution_count": 0,
      "outputs": []
    },
    {
      "metadata": {
        "id": "tYe1PLkt0WJp",
        "colab_type": "code",
        "outputId": "f9ed0461-ded5-45e6-97dc-c4e0386c8d12",
        "colab": {
          "base_uri": "https://localhost:8080/",
          "height": 34
        }
      },
      "cell_type": "code",
      "source": [
        "individual(6,0,100)"
      ],
      "execution_count": 12,
      "outputs": [
        {
          "output_type": "execute_result",
          "data": {
            "text/plain": [
              "[0, 86, 27, 0, 83, 31]"
            ]
          },
          "metadata": {
            "tags": []
          },
          "execution_count": 12
        }
      ]
    },
    {
      "metadata": {
        "id": "zrI3aqat1tXv",
        "colab_type": "code",
        "outputId": "d426483a-b449-4eba-ab0c-6f94e2042ecc",
        "colab": {
          "base_uri": "https://localhost:8080/",
          "height": 34
        }
      },
      "cell_type": "code",
      "source": [
        "individual(5,0,100)"
      ],
      "execution_count": 13,
      "outputs": [
        {
          "output_type": "execute_result",
          "data": {
            "text/plain": [
              "[61, 70, 57, 69, 36]"
            ]
          },
          "metadata": {
            "tags": []
          },
          "execution_count": 13
        }
      ]
    },
    {
      "metadata": {
        "id": "E74H78SF1ECb",
        "colab_type": "code",
        "colab": {}
      },
      "cell_type": "code",
      "source": [
        "def population(count, length, min, max):\n",
        "  return [individual(length, min, max) for x in range(0, count)]"
      ],
      "execution_count": 0,
      "outputs": []
    },
    {
      "metadata": {
        "id": "0TH0QaPK2P0d",
        "colab_type": "code",
        "outputId": "4c4440bb-f32d-49c4-b80d-a0fddfb307ad",
        "colab": {
          "base_uri": "https://localhost:8080/",
          "height": 102
        }
      },
      "cell_type": "code",
      "source": [
        "population(5,5,0,100)"
      ],
      "execution_count": 15,
      "outputs": [
        {
          "output_type": "execute_result",
          "data": {
            "text/plain": [
              "[[27, 47, 38, 47, 26],\n",
              " [9, 85, 91, 4, 6],\n",
              " [99, 66, 81, 18, 25],\n",
              " [77, 71, 76, 4, 20],\n",
              " [61, 44, 9, 27, 28]]"
            ]
          },
          "metadata": {
            "tags": []
          },
          "execution_count": 15
        }
      ]
    },
    {
      "metadata": {
        "id": "bGGn4GNp2Sxb",
        "colab_type": "code",
        "colab": {}
      },
      "cell_type": "code",
      "source": [
        "from operator import add\n",
        "import functools\n",
        "\n",
        "def fitness(individual, target):\n",
        "  sum = functools.reduce(add, individual, 0)\n",
        "  return abs(target - sum)"
      ],
      "execution_count": 0,
      "outputs": []
    },
    {
      "metadata": {
        "id": "-GetnJE13MnV",
        "colab_type": "code",
        "outputId": "b8dd2522-b793-4bd9-9073-c5eeea33a2ea",
        "colab": {
          "base_uri": "https://localhost:8080/",
          "height": 34
        }
      },
      "cell_type": "code",
      "source": [
        "x = individual(5,0,100)\n",
        "print(x)"
      ],
      "execution_count": 17,
      "outputs": [
        {
          "output_type": "stream",
          "text": [
            "[45, 79, 14, 29, 31]\n"
          ],
          "name": "stdout"
        }
      ]
    },
    {
      "metadata": {
        "id": "6IJPHacE3UQE",
        "colab_type": "code",
        "outputId": "acc8791d-b314-473e-8638-6954630fac7b",
        "colab": {
          "base_uri": "https://localhost:8080/",
          "height": 34
        }
      },
      "cell_type": "code",
      "source": [
        "fitness(x, 200)"
      ],
      "execution_count": 18,
      "outputs": [
        {
          "output_type": "execute_result",
          "data": {
            "text/plain": [
              "2"
            ]
          },
          "metadata": {
            "tags": []
          },
          "execution_count": 18
        }
      ]
    },
    {
      "metadata": {
        "id": "neMacwho3Xab",
        "colab_type": "code",
        "colab": {}
      },
      "cell_type": "code",
      "source": [
        "def grade(pop, target):\n",
        "  summed = functools.reduce(add, (fitness(x, target) for x in pop), 0)\n",
        "  return summed / (len(pop) * 1.0)"
      ],
      "execution_count": 0,
      "outputs": []
    },
    {
      "metadata": {
        "id": "-cQIVf7wBhey",
        "colab_type": "code",
        "colab": {}
      },
      "cell_type": "code",
      "source": [
        "pop = population(3,5,0,100)"
      ],
      "execution_count": 0,
      "outputs": []
    },
    {
      "metadata": {
        "id": "Q4NTN5I_Blvi",
        "colab_type": "code",
        "outputId": "191f2810-49d1-4343-8af3-03b93f77af13",
        "colab": {
          "base_uri": "https://localhost:8080/",
          "height": 34
        }
      },
      "cell_type": "code",
      "source": [
        "pop"
      ],
      "execution_count": 21,
      "outputs": [
        {
          "output_type": "execute_result",
          "data": {
            "text/plain": [
              "[[51, 25, 45, 18, 96], [5, 29, 94, 15, 96], [7, 91, 88, 24, 43]]"
            ]
          },
          "metadata": {
            "tags": []
          },
          "execution_count": 21
        }
      ]
    },
    {
      "metadata": {
        "id": "j7G4z5lZBnzy",
        "colab_type": "code",
        "outputId": "c21590ad-ba62-472a-e0cf-7ff929f28d87",
        "colab": {
          "base_uri": "https://localhost:8080/",
          "height": 34
        }
      },
      "cell_type": "code",
      "source": [
        "target = 200\n",
        "grade(pop, target)"
      ],
      "execution_count": 22,
      "outputs": [
        {
          "output_type": "execute_result",
          "data": {
            "text/plain": [
              "42.333333333333336"
            ]
          },
          "metadata": {
            "tags": []
          },
          "execution_count": 22
        }
      ]
    },
    {
      "metadata": {
        "id": "JS0Vf73zE428",
        "colab_type": "code",
        "outputId": "92af2ba0-abd1-4e47-ee7a-ef35fd0f54f7",
        "colab": {
          "base_uri": "https://localhost:8080/",
          "height": 34
        }
      },
      "cell_type": "code",
      "source": [
        "from random import random, randint\n",
        "random()"
      ],
      "execution_count": 23,
      "outputs": [
        {
          "output_type": "execute_result",
          "data": {
            "text/plain": [
              "0.4669511211934312"
            ]
          },
          "metadata": {
            "tags": []
          },
          "execution_count": 23
        }
      ]
    },
    {
      "metadata": {
        "id": "vv5CUb6BGfiu",
        "colab_type": "code",
        "colab": {}
      },
      "cell_type": "code",
      "source": [
        "def evolve(pop, target, retain=0.2, random_select=0.5, mutate=0.01):\n",
        "  graded = [(fitness(x, target), x) for x in pop]  # Find fitness of individual in the population\n",
        "  graded = [ x[1] for x in sorted(graded)]  # Order the individual in order of fitness\n",
        "  retain_length = int(len(graded)*retain)  # Find how many members to make parent\n",
        "  parents = graded[:retain_length]  # Select the parent from the population\n",
        "  \n",
        "  #  Randomly add other individuals to promote genetic diversity\n",
        "  for individual in graded[retain_length:]:\n",
        "    if random_select > random():\n",
        "      parents.append(individual)\n",
        "      \n",
        "      \n",
        "  #  Mutate some individual\n",
        "  for individual in parents:\n",
        "    if mutate > random():\n",
        "      pos_to_mutate = randint(0, len(individual)-1)\n",
        "      individual[pos_to_mutate] = randint(min(individual), max(individual))\n",
        "\n",
        "  #  Crossover parents to create children\n",
        "  parents_length = len(parents)\n",
        "  desired_length = len(pop) - parents_length\n",
        "  children = []\n",
        "  \n",
        "  while len(children) < desired_length:\n",
        "    male = randint(0, parents_length-1)\n",
        "    female = randint(0, parents_length-1)\n",
        "    if male != female:\n",
        "      male = parents[male]\n",
        "      female = parents[female]\n",
        "      half = int(len(male) / 2)\n",
        "      child = male[:half] + female[half:]\n",
        "      children.append(child)\n",
        "      \n",
        "  parents.extend(children)\n",
        "  return parents"
      ],
      "execution_count": 0,
      "outputs": []
    },
    {
      "metadata": {
        "id": "w2vhW7tKGjCH",
        "colab_type": "code",
        "colab": {}
      },
      "cell_type": "code",
      "source": [
        "v_pop = population(100, 5, 0, 100)"
      ],
      "execution_count": 0,
      "outputs": []
    },
    {
      "metadata": {
        "id": "FH5nN7idKeho",
        "colab_type": "code",
        "colab": {}
      },
      "cell_type": "code",
      "source": [
        "target = 190"
      ],
      "execution_count": 0,
      "outputs": []
    },
    {
      "metadata": {
        "id": "nECLWeUzI8Yn",
        "colab_type": "code",
        "colab": {}
      },
      "cell_type": "code",
      "source": [
        "fitness_history = [grade(v_pop, target)]"
      ],
      "execution_count": 0,
      "outputs": []
    },
    {
      "metadata": {
        "id": "czTHabW4I-J-",
        "colab_type": "code",
        "outputId": "6cdac981-a92e-4ef1-b1f5-df6c612b9f78",
        "colab": {
          "base_uri": "https://localhost:8080/",
          "height": 34
        }
      },
      "cell_type": "code",
      "source": [
        "fitness_history"
      ],
      "execution_count": 37,
      "outputs": [
        {
          "output_type": "execute_result",
          "data": {
            "text/plain": [
              "[75.83]"
            ]
          },
          "metadata": {
            "tags": []
          },
          "execution_count": 37
        }
      ]
    },
    {
      "metadata": {
        "id": "WDL-LXmoJRVr",
        "colab_type": "code",
        "colab": {}
      },
      "cell_type": "code",
      "source": [
        "for i in range(0, 200):\n",
        "  v_pop = evolve(v_pop, target)\n",
        "  fitness_history.append(grade(v_pop, target))"
      ],
      "execution_count": 0,
      "outputs": []
    },
    {
      "metadata": {
        "id": "Hn7nIqKIJqPT",
        "colab_type": "code",
        "outputId": "5395f387-14d4-4107-fe19-26f018882ff6",
        "colab": {
          "base_uri": "https://localhost:8080/",
          "height": 3434
        }
      },
      "cell_type": "code",
      "source": [
        "fitness_history"
      ],
      "execution_count": 39,
      "outputs": [
        {
          "output_type": "execute_result",
          "data": {
            "text/plain": [
              "[75.83,\n",
              " 66.43,\n",
              " 59.22,\n",
              " 52.67,\n",
              " 48.53,\n",
              " 47.28,\n",
              " 50.48,\n",
              " 43.85,\n",
              " 44.13,\n",
              " 32.59,\n",
              " 37.53,\n",
              " 44.33,\n",
              " 39.02,\n",
              " 40.31,\n",
              " 40.28,\n",
              " 39.28,\n",
              " 36.41,\n",
              " 38.55,\n",
              " 35.07,\n",
              " 35.09,\n",
              " 38.29,\n",
              " 42.46,\n",
              " 47.83,\n",
              " 42.54,\n",
              " 30.03,\n",
              " 26.51,\n",
              " 26.11,\n",
              " 24.15,\n",
              " 21.45,\n",
              " 18.3,\n",
              " 20.5,\n",
              " 17.04,\n",
              " 15.09,\n",
              " 12.18,\n",
              " 10.01,\n",
              " 11.2,\n",
              " 8.43,\n",
              " 5.55,\n",
              " 4.86,\n",
              " 3.07,\n",
              " 3.43,\n",
              " 3.39,\n",
              " 3.27,\n",
              " 3.98,\n",
              " 2.53,\n",
              " 1.23,\n",
              " 0.95,\n",
              " 1.42,\n",
              " 1.69,\n",
              " 1.61,\n",
              " 1.07,\n",
              " 0.55,\n",
              " 0.34,\n",
              " 0.31,\n",
              " 0.39,\n",
              " 1.65,\n",
              " 1.92,\n",
              " 1.89,\n",
              " 2.06,\n",
              " 1.54,\n",
              " 0.94,\n",
              " 1.63,\n",
              " 0.93,\n",
              " 1.3,\n",
              " 0.76,\n",
              " 1.14,\n",
              " 1.52,\n",
              " 1.14,\n",
              " 0.95,\n",
              " 0.95,\n",
              " 0.95,\n",
              " 0.76,\n",
              " 0.74,\n",
              " 1.33,\n",
              " 0.83,\n",
              " 0.75,\n",
              " 0.81,\n",
              " 0.26,\n",
              " 0.2,\n",
              " 0.16,\n",
              " 0.29,\n",
              " 0.27,\n",
              " 0.59,\n",
              " 0.53,\n",
              " 0.7,\n",
              " 0.45,\n",
              " 0.64,\n",
              " 2.23,\n",
              " 2.03,\n",
              " 1.61,\n",
              " 0.96,\n",
              " 1.51,\n",
              " 1.51,\n",
              " 0.14,\n",
              " 0.54,\n",
              " 0.67,\n",
              " 0.44,\n",
              " 0.16,\n",
              " 0.2,\n",
              " 0.28,\n",
              " 0.72,\n",
              " 0.96,\n",
              " 0.79,\n",
              " 0.79,\n",
              " 1.05,\n",
              " 1.15,\n",
              " 0.83,\n",
              " 0.66,\n",
              " 0.93,\n",
              " 0.42,\n",
              " 0.41,\n",
              " 0.0,\n",
              " 0.0,\n",
              " 0.28,\n",
              " 0.13,\n",
              " 0.0,\n",
              " 0.0,\n",
              " 0.01,\n",
              " 0.54,\n",
              " 1.14,\n",
              " 1.9,\n",
              " 1.4,\n",
              " 0.55,\n",
              " 0.12,\n",
              " 0.0,\n",
              " 0.0,\n",
              " 0.68,\n",
              " 1.34,\n",
              " 1.17,\n",
              " 1.8,\n",
              " 1.45,\n",
              " 2.0,\n",
              " 2.21,\n",
              " 2.13,\n",
              " 1.55,\n",
              " 1.55,\n",
              " 0.8,\n",
              " 1.03,\n",
              " 0.8,\n",
              " 1.3,\n",
              " 1.4,\n",
              " 1.95,\n",
              " 1.88,\n",
              " 1.47,\n",
              " 1.04,\n",
              " 1.1,\n",
              " 1.17,\n",
              " 1.83,\n",
              " 2.09,\n",
              " 0.99,\n",
              " 0.92,\n",
              " 1.32,\n",
              " 1.75,\n",
              " 0.82,\n",
              " 0.76,\n",
              " 0.41,\n",
              " 0.85,\n",
              " 0.22,\n",
              " 0.1,\n",
              " 0.1,\n",
              " 0.06,\n",
              " 0.39,\n",
              " 0.78,\n",
              " 0.3,\n",
              " 0.46,\n",
              " 0.36,\n",
              " 0.55,\n",
              " 0.44,\n",
              " 0.4,\n",
              " 0.06,\n",
              " 1.01,\n",
              " 0.45,\n",
              " 0.4,\n",
              " 0.96,\n",
              " 0.48,\n",
              " 0.24,\n",
              " 0.24,\n",
              " 0.0,\n",
              " 0.0,\n",
              " 0.0,\n",
              " 0.51,\n",
              " 0.51,\n",
              " 0.65,\n",
              " 0.34,\n",
              " 0.61,\n",
              " 0.34,\n",
              " 0.56,\n",
              " 0.39,\n",
              " 0.17,\n",
              " 0.0,\n",
              " 0.89,\n",
              " 0.52,\n",
              " 0.13,\n",
              " 0.64,\n",
              " 0.13,\n",
              " 0.0,\n",
              " 0.0,\n",
              " 1.02,\n",
              " 0.97,\n",
              " 0.83,\n",
              " 1.7]"
            ]
          },
          "metadata": {
            "tags": []
          },
          "execution_count": 39
        }
      ]
    },
    {
      "metadata": {
        "id": "w8iGFKnKKCvE",
        "colab_type": "code",
        "outputId": "5b4882c8-dee2-4cf4-fba5-22a4fdf143f5",
        "colab": {
          "base_uri": "https://localhost:8080/",
          "height": 1717
        }
      },
      "cell_type": "code",
      "source": [
        "v_pop"
      ],
      "execution_count": 41,
      "outputs": [
        {
          "output_type": "execute_result",
          "data": {
            "text/plain": [
              "[[37, 47, 35, 17, 54],\n",
              " [51, 47, 35, 17, 54],\n",
              " [37, 47, 35, 17, 54],\n",
              " [37, 47, 35, 17, 54],\n",
              " [37, 47, 35, 17, 54],\n",
              " [37, 47, 35, 17, 54],\n",
              " [37, 47, 35, 17, 54],\n",
              " [37, 47, 35, 17, 54],\n",
              " [37, 47, 35, 17, 54],\n",
              " [37, 47, 35, 17, 54],\n",
              " [37, 47, 35, 17, 54],\n",
              " [37, 47, 35, 17, 54],\n",
              " [37, 47, 35, 17, 54],\n",
              " [37, 47, 35, 17, 54],\n",
              " [37, 47, 35, 17, 54],\n",
              " [37, 47, 35, 17, 54],\n",
              " [37, 47, 35, 17, 54],\n",
              " [37, 47, 35, 17, 54],\n",
              " [37, 47, 35, 17, 54],\n",
              " [37, 47, 35, 17, 54],\n",
              " [37, 47, 35, 17, 54],\n",
              " [37, 47, 35, 17, 54],\n",
              " [37, 47, 35, 17, 54],\n",
              " [37, 47, 35, 17, 54],\n",
              " [37, 47, 35, 17, 54],\n",
              " [37, 47, 35, 17, 54],\n",
              " [37, 47, 35, 17, 54],\n",
              " [37, 47, 35, 17, 54],\n",
              " [37, 47, 35, 17, 49],\n",
              " [37, 47, 35, 17, 54],\n",
              " [37, 47, 35, 17, 54],\n",
              " [37, 47, 35, 17, 54],\n",
              " [37, 47, 35, 17, 54],\n",
              " [37, 47, 35, 17, 54],\n",
              " [37, 47, 35, 17, 54],\n",
              " [37, 47, 35, 17, 54],\n",
              " [37, 47, 35, 17, 54],\n",
              " [37, 47, 35, 17, 54],\n",
              " [37, 47, 35, 17, 54],\n",
              " [37, 47, 35, 17, 54],\n",
              " [37, 47, 35, 17, 54],\n",
              " [37, 47, 35, 17, 54],\n",
              " [37, 47, 35, 17, 54],\n",
              " [37, 47, 35, 17, 54],\n",
              " [37, 47, 35, 17, 54],\n",
              " [37, 47, 35, 17, 54],\n",
              " [37, 47, 35, 17, 54],\n",
              " [37, 47, 35, 17, 54],\n",
              " [37, 47, 35, 17, 54],\n",
              " [37, 47, 35, 17, 54],\n",
              " [37, 47, 35, 17, 54],\n",
              " [37, 47, 35, 17, 54],\n",
              " [37, 47, 35, 17, 54],\n",
              " [37, 47, 35, 17, 54],\n",
              " [37, 47, 35, 17, 54],\n",
              " [37, 47, 35, 17, 54],\n",
              " [37, 47, 35, 17, 54],\n",
              " [37, 47, 35, 17, 54],\n",
              " [37, 47, 35, 17, 54],\n",
              " [37, 47, 35, 21, 54],\n",
              " [37, 47, 35, 21, 54],\n",
              " [37, 47, 35, 42, 54],\n",
              " [37, 47, 35, 42, 54],\n",
              " [37, 47, 35, 17, 54],\n",
              " [37, 47, 35, 17, 54],\n",
              " [37, 47, 35, 17, 54],\n",
              " [37, 47, 35, 17, 54],\n",
              " [37, 47, 35, 17, 54],\n",
              " [37, 47, 35, 17, 54],\n",
              " [37, 47, 35, 17, 54],\n",
              " [37, 47, 35, 17, 54],\n",
              " [37, 47, 35, 17, 54],\n",
              " [37, 47, 35, 17, 54],\n",
              " [37, 47, 35, 17, 54],\n",
              " [37, 47, 35, 42, 54],\n",
              " [37, 47, 35, 17, 54],\n",
              " [37, 47, 35, 17, 54],\n",
              " [37, 47, 35, 17, 54],\n",
              " [37, 47, 35, 17, 54],\n",
              " [37, 47, 35, 17, 54],\n",
              " [37, 47, 35, 17, 54],\n",
              " [37, 47, 35, 21, 54],\n",
              " [37, 47, 35, 17, 54],\n",
              " [37, 47, 35, 17, 54],\n",
              " [51, 47, 35, 42, 54],\n",
              " [37, 47, 35, 17, 54],\n",
              " [37, 47, 35, 17, 54],\n",
              " [37, 47, 35, 42, 54],\n",
              " [37, 47, 35, 17, 54],\n",
              " [37, 47, 35, 17, 54],\n",
              " [37, 47, 35, 17, 54],\n",
              " [37, 47, 35, 17, 54],\n",
              " [37, 47, 35, 17, 54],\n",
              " [37, 47, 35, 17, 54],\n",
              " [37, 47, 35, 17, 54],\n",
              " [37, 47, 35, 17, 54],\n",
              " [37, 47, 35, 17, 54],\n",
              " [37, 47, 35, 17, 54],\n",
              " [37, 47, 35, 17, 54],\n",
              " [37, 47, 35, 17, 54]]"
            ]
          },
          "metadata": {
            "tags": []
          },
          "execution_count": 41
        }
      ]
    },
    {
      "metadata": {
        "id": "i946gcGhKFf0",
        "colab_type": "code",
        "outputId": "555c205b-149c-4acb-a8bd-4a9f05ed30d4",
        "colab": {
          "base_uri": "https://localhost:8080/",
          "height": 204
        }
      },
      "cell_type": "code",
      "source": [
        "vishal = 0\n",
        "for x in v_pop:\n",
        "  if sum(x) == target:\n",
        "    vishal += 1\n",
        "  else:\n",
        "    print(x)\n",
        "  \n",
        "print(vishal/len(v_pop)*100)"
      ],
      "execution_count": 42,
      "outputs": [
        {
          "output_type": "stream",
          "text": [
            "[51, 47, 35, 17, 54]\n",
            "[37, 47, 35, 17, 49]\n",
            "[37, 47, 35, 21, 54]\n",
            "[37, 47, 35, 21, 54]\n",
            "[37, 47, 35, 42, 54]\n",
            "[37, 47, 35, 42, 54]\n",
            "[37, 47, 35, 42, 54]\n",
            "[37, 47, 35, 21, 54]\n",
            "[51, 47, 35, 42, 54]\n",
            "[37, 47, 35, 42, 54]\n",
            "90.0\n"
          ],
          "name": "stdout"
        }
      ]
    },
    {
      "metadata": {
        "id": "ppkyF501LUda",
        "colab_type": "code",
        "colab": {}
      },
      "cell_type": "code",
      "source": [
        ""
      ],
      "execution_count": 0,
      "outputs": []
    }
  ]
}