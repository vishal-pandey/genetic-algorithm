{
  "nbformat": 4,
  "nbformat_minor": 0,
  "metadata": {
    "colab": {
      "name": "genetic_algo.ipynb",
      "version": "0.3.2",
      "provenance": [],
      "collapsed_sections": []
    },
    "kernelspec": {
      "name": "python3",
      "display_name": "Python 3"
    }
  },
  "cells": [
    {
      "metadata": {
        "id": "pzowbFa-zTGn",
        "colab_type": "code",
        "colab": {}
      },
      "cell_type": "code",
      "source": [
        "from random import randint"
      ],
      "execution_count": 0,
      "outputs": []
    },
    {
      "metadata": {
        "id": "Hlk5KwUfz4K_",
        "colab_type": "code",
        "colab": {}
      },
      "cell_type": "code",
      "source": [
        "def individual(length, min, max):\n",
        "  'Create a member of the population'\n",
        "  return [randint(min, max) for x in range(0,5)]"
      ],
      "execution_count": 0,
      "outputs": []
    },
    {
      "metadata": {
        "id": "tYe1PLkt0WJp",
        "colab_type": "code",
        "outputId": "7d769592-4483-4a53-8cac-d14da2e6e091",
        "colab": {
          "base_uri": "https://localhost:8080/",
          "height": 34
        }
      },
      "cell_type": "code",
      "source": [
        "individual(5,0,100)"
      ],
      "execution_count": 39,
      "outputs": [
        {
          "output_type": "execute_result",
          "data": {
            "text/plain": [
              "[53, 70, 14, 10, 76]"
            ]
          },
          "metadata": {
            "tags": []
          },
          "execution_count": 39
        }
      ]
    },
    {
      "metadata": {
        "id": "zrI3aqat1tXv",
        "colab_type": "code",
        "outputId": "df0b8892-1d40-4528-ec6e-3575e8351bd9",
        "colab": {
          "base_uri": "https://localhost:8080/",
          "height": 34
        }
      },
      "cell_type": "code",
      "source": [
        "individual(5,0,100)"
      ],
      "execution_count": 40,
      "outputs": [
        {
          "output_type": "execute_result",
          "data": {
            "text/plain": [
              "[40, 50, 99, 96, 88]"
            ]
          },
          "metadata": {
            "tags": []
          },
          "execution_count": 40
        }
      ]
    },
    {
      "metadata": {
        "id": "E74H78SF1ECb",
        "colab_type": "code",
        "colab": {}
      },
      "cell_type": "code",
      "source": [
        "def population(count, length, min, max):\n",
        "  return [individual(length, min, max) for x in range(0, count)]"
      ],
      "execution_count": 0,
      "outputs": []
    },
    {
      "metadata": {
        "id": "0TH0QaPK2P0d",
        "colab_type": "code",
        "outputId": "372cabce-4ed9-4b34-bafe-b23dd989adef",
        "colab": {
          "base_uri": "https://localhost:8080/",
          "height": 102
        }
      },
      "cell_type": "code",
      "source": [
        "population(5,5,0,100)"
      ],
      "execution_count": 42,
      "outputs": [
        {
          "output_type": "execute_result",
          "data": {
            "text/plain": [
              "[[73, 60, 53, 63, 11],\n",
              " [67, 38, 18, 29, 63],\n",
              " [32, 31, 62, 69, 97],\n",
              " [94, 32, 39, 39, 89],\n",
              " [27, 78, 12, 47, 5]]"
            ]
          },
          "metadata": {
            "tags": []
          },
          "execution_count": 42
        }
      ]
    },
    {
      "metadata": {
        "id": "bGGn4GNp2Sxb",
        "colab_type": "code",
        "colab": {}
      },
      "cell_type": "code",
      "source": [
        "from operator import add\n",
        "import functools\n",
        "\n",
        "def fitness(individual, target):\n",
        "  sum = functools.reduce(add, individual, 0)\n",
        "  return abs(target - sum)"
      ],
      "execution_count": 0,
      "outputs": []
    },
    {
      "metadata": {
        "id": "-GetnJE13MnV",
        "colab_type": "code",
        "outputId": "2f02cfff-6742-4006-a302-894f21680cc7",
        "colab": {
          "base_uri": "https://localhost:8080/",
          "height": 34
        }
      },
      "cell_type": "code",
      "source": [
        "x = individual(5,0,100)\n",
        "print(x)"
      ],
      "execution_count": 44,
      "outputs": [
        {
          "output_type": "stream",
          "text": [
            "[81, 50, 11, 88, 48]\n"
          ],
          "name": "stdout"
        }
      ]
    },
    {
      "metadata": {
        "id": "6IJPHacE3UQE",
        "colab_type": "code",
        "outputId": "90311971-245e-434e-b63f-79bbbe96dbeb",
        "colab": {
          "base_uri": "https://localhost:8080/",
          "height": 34
        }
      },
      "cell_type": "code",
      "source": [
        "fitness(x, 200)"
      ],
      "execution_count": 45,
      "outputs": [
        {
          "output_type": "execute_result",
          "data": {
            "text/plain": [
              "78"
            ]
          },
          "metadata": {
            "tags": []
          },
          "execution_count": 45
        }
      ]
    },
    {
      "metadata": {
        "id": "neMacwho3Xab",
        "colab_type": "code",
        "colab": {}
      },
      "cell_type": "code",
      "source": [
        "def grade(pop, target):\n",
        "  summed = functools.reduce(add, (fitness(x, target) for x in pop), 0)\n",
        "  return summed / (len(pop) * 1.0)"
      ],
      "execution_count": 0,
      "outputs": []
    },
    {
      "metadata": {
        "id": "-cQIVf7wBhey",
        "colab_type": "code",
        "colab": {}
      },
      "cell_type": "code",
      "source": [
        "pop = population(3,5,0,100)"
      ],
      "execution_count": 0,
      "outputs": []
    },
    {
      "metadata": {
        "id": "Q4NTN5I_Blvi",
        "colab_type": "code",
        "outputId": "20f7600e-30ce-4509-9ff1-d23692934d9b",
        "colab": {
          "base_uri": "https://localhost:8080/",
          "height": 34
        }
      },
      "cell_type": "code",
      "source": [
        "pop"
      ],
      "execution_count": 48,
      "outputs": [
        {
          "output_type": "execute_result",
          "data": {
            "text/plain": [
              "[[39, 19, 64, 43, 5], [25, 41, 84, 76, 89], [71, 92, 19, 71, 78]]"
            ]
          },
          "metadata": {
            "tags": []
          },
          "execution_count": 48
        }
      ]
    },
    {
      "metadata": {
        "id": "j7G4z5lZBnzy",
        "colab_type": "code",
        "outputId": "1873b2de-e27d-4fc5-8a60-5f7164cd8a29",
        "colab": {
          "base_uri": "https://localhost:8080/",
          "height": 34
        }
      },
      "cell_type": "code",
      "source": [
        "target = 200\n",
        "grade(pop, target)"
      ],
      "execution_count": 49,
      "outputs": [
        {
          "output_type": "execute_result",
          "data": {
            "text/plain": [
              "92.0"
            ]
          },
          "metadata": {
            "tags": []
          },
          "execution_count": 49
        }
      ]
    },
    {
      "metadata": {
        "id": "JS0Vf73zE428",
        "colab_type": "code",
        "colab": {
          "base_uri": "https://localhost:8080/",
          "height": 34
        },
        "outputId": "c5ea8c50-ea96-4204-aded-e5de2888bceb"
      },
      "cell_type": "code",
      "source": [
        "from random import random, randint\n",
        "random()"
      ],
      "execution_count": 50,
      "outputs": [
        {
          "output_type": "execute_result",
          "data": {
            "text/plain": [
              "0.1795779575874591"
            ]
          },
          "metadata": {
            "tags": []
          },
          "execution_count": 50
        }
      ]
    },
    {
      "metadata": {
        "id": "vv5CUb6BGfiu",
        "colab_type": "code",
        "colab": {}
      },
      "cell_type": "code",
      "source": [
        "def evolve(pop, target, retain=0.2, random_select=0.5, mutate=0.01):\n",
        "  graded = [(fitness(x, target), x) for x in pop]  # Find fitness of individual in the population\n",
        "  graded = [ x[1] for x in sorted(graded)]  # Order the individual in order of fitness\n",
        "  retain_length = int(len(graded)*retain)  # Find how many members to make parent\n",
        "  parents = graded[:retain_length]  # Select the parent from the population\n",
        "  \n",
        "  #  Randomly add other individuals to promote genetic diversity\n",
        "  for individual in graded[:retain_length]:\n",
        "    if random_select > random():\n",
        "      parent.append(individual)\n",
        "      \n",
        "      \n",
        "  #  Mutate some individual\n",
        "  for individual in parents:\n",
        "    if mutate > random():\n",
        "      pos_to_mutate = randint(0, len(individual)-1)\n",
        "      individual[pos_to_mutate] = randint(min(individual), max(individual))\n",
        "\n",
        "  #  Crossover parents to create children\n",
        "  parents_length = len(parents)\n",
        "  desired_length = len(pop) - parents_length\n",
        "  children = []\n",
        "  \n",
        "  while len(children) < desired_length:\n",
        "    male = randint(0, parents_length-1)\n",
        "    female = randint(0, parents_length-1)\n",
        "    if male != female:\n",
        "      male = parents[male]\n",
        "      female = parents[female]\n",
        "      half = int(len(male) / 2)\n",
        "      child = male[:half] + female[half:]\n",
        "      children.append(child)\n",
        "      \n",
        "  parents.extend(children)\n",
        "  return parents"
      ],
      "execution_count": 0,
      "outputs": []
    },
    {
      "metadata": {
        "id": "w2vhW7tKGjCH",
        "colab_type": "code",
        "colab": {}
      },
      "cell_type": "code",
      "source": [
        "v_pop = population(100, 5, 0, 100)"
      ],
      "execution_count": 0,
      "outputs": []
    },
    {
      "metadata": {
        "id": "FH5nN7idKeho",
        "colab_type": "code",
        "colab": {}
      },
      "cell_type": "code",
      "source": [
        "target = 201"
      ],
      "execution_count": 0,
      "outputs": []
    },
    {
      "metadata": {
        "id": "nECLWeUzI8Yn",
        "colab_type": "code",
        "colab": {}
      },
      "cell_type": "code",
      "source": [
        "fitness_history = [grade(v_pop, target)]"
      ],
      "execution_count": 0,
      "outputs": []
    },
    {
      "metadata": {
        "id": "czTHabW4I-J-",
        "colab_type": "code",
        "colab": {
          "base_uri": "https://localhost:8080/",
          "height": 34
        },
        "outputId": "599651d1-f184-4216-9746-1883ad005766"
      },
      "cell_type": "code",
      "source": [
        "fitness_history"
      ],
      "execution_count": 64,
      "outputs": [
        {
          "output_type": "execute_result",
          "data": {
            "text/plain": [
              "[59.19]"
            ]
          },
          "metadata": {
            "tags": []
          },
          "execution_count": 64
        }
      ]
    },
    {
      "metadata": {
        "id": "WDL-LXmoJRVr",
        "colab_type": "code",
        "colab": {}
      },
      "cell_type": "code",
      "source": [
        "for i in range(0, 200):\n",
        "  v_pop = evolve(v_pop, target)\n",
        "  fitness_history.append(grade(v_pop, target))"
      ],
      "execution_count": 0,
      "outputs": []
    },
    {
      "metadata": {
        "id": "Hn7nIqKIJqPT",
        "colab_type": "code",
        "colab": {
          "base_uri": "https://localhost:8080/",
          "height": 5134
        },
        "outputId": "522e9e23-20ae-490d-ef56-e778d860e334"
      },
      "cell_type": "code",
      "source": [
        "fitness_history"
      ],
      "execution_count": 72,
      "outputs": [
        {
          "output_type": "execute_result",
          "data": {
            "text/plain": [
              "[59.19,\n",
              " 37.05,\n",
              " 21.31,\n",
              " 19.55,\n",
              " 14.86,\n",
              " 13.02,\n",
              " 15.49,\n",
              " 11.0,\n",
              " 0.0,\n",
              " 2.05,\n",
              " 0.0,\n",
              " 0.0,\n",
              " 0.0,\n",
              " 0.0,\n",
              " 0.0,\n",
              " 0.0,\n",
              " 0.0,\n",
              " 0.72,\n",
              " 0.0,\n",
              " 0.0,\n",
              " 0.28,\n",
              " 0.0,\n",
              " 0.0,\n",
              " 0.0,\n",
              " 0.0,\n",
              " 0.0,\n",
              " 0.0,\n",
              " 0.0,\n",
              " 0.0,\n",
              " 0.0,\n",
              " 0.0,\n",
              " 0.0,\n",
              " 0.0,\n",
              " 0.0,\n",
              " 0.0,\n",
              " 0.42,\n",
              " 0.0,\n",
              " 0.0,\n",
              " 0.22,\n",
              " 0.56,\n",
              " 2.1,\n",
              " 0.0,\n",
              " 0.45,\n",
              " 0.0,\n",
              " 0.0,\n",
              " 0.0,\n",
              " 0.0,\n",
              " 0.0,\n",
              " 0.0,\n",
              " 0.0,\n",
              " 0.0,\n",
              " 0.0,\n",
              " 0.0,\n",
              " 0.0,\n",
              " 0.0,\n",
              " 0.0,\n",
              " 0.0,\n",
              " 0.0,\n",
              " 1.96,\n",
              " 0.0,\n",
              " 0.0,\n",
              " 0.0,\n",
              " 0.0,\n",
              " 0.0,\n",
              " 0.12,\n",
              " 0.05,\n",
              " 0.0,\n",
              " 0.0,\n",
              " 0.0,\n",
              " 0.0,\n",
              " 0.0,\n",
              " 0.0,\n",
              " 0.0,\n",
              " 0.0,\n",
              " 0.0,\n",
              " 1.5,\n",
              " 0.0,\n",
              " 0.0,\n",
              " 0.0,\n",
              " 0.0,\n",
              " 0.0,\n",
              " 0.0,\n",
              " 0.0,\n",
              " 0.0,\n",
              " 1.02,\n",
              " 0.09,\n",
              " 0.0,\n",
              " 0.0,\n",
              " 0.0,\n",
              " 0.0,\n",
              " 0.0,\n",
              " 1.04,\n",
              " 0.0,\n",
              " 0.0,\n",
              " 0.0,\n",
              " 0.0,\n",
              " 0.66,\n",
              " 0.0,\n",
              " 0.0,\n",
              " 0.0,\n",
              " 1.62,\n",
              " 0.0,\n",
              " 0.0,\n",
              " 1.52,\n",
              " 1.65,\n",
              " 0.0,\n",
              " 0.0,\n",
              " 0.49,\n",
              " 0.0,\n",
              " 0.0,\n",
              " 0.36,\n",
              " 0.0,\n",
              " 0.0,\n",
              " 0.0,\n",
              " 0.0,\n",
              " 0.0,\n",
              " 0.76,\n",
              " 0.0,\n",
              " 0.0,\n",
              " 0.0,\n",
              " 0.0,\n",
              " 0.0,\n",
              " 0.0,\n",
              " 0.0,\n",
              " 0.0,\n",
              " 0.0,\n",
              " 0.0,\n",
              " 0.0,\n",
              " 0.0,\n",
              " 0.0,\n",
              " 0.0,\n",
              " 0.0,\n",
              " 0.0,\n",
              " 0.0,\n",
              " 0.0,\n",
              " 1.1,\n",
              " 2.16,\n",
              " 0.0,\n",
              " 0.0,\n",
              " 0.0,\n",
              " 0.0,\n",
              " 0.0,\n",
              " 0.0,\n",
              " 0.0,\n",
              " 0.0,\n",
              " 0.0,\n",
              " 0.0,\n",
              " 0.0,\n",
              " 0.0,\n",
              " 1.02,\n",
              " 0.0,\n",
              " 0.0,\n",
              " 0.0,\n",
              " 0.0,\n",
              " 0.0,\n",
              " 0.0,\n",
              " 0.0,\n",
              " 0.0,\n",
              " 0.0,\n",
              " 0.15,\n",
              " 0.0,\n",
              " 0.0,\n",
              " 1.12,\n",
              " 2.5,\n",
              " 0.0,\n",
              " 0.0,\n",
              " 0.0,\n",
              " 0.0,\n",
              " 0.96,\n",
              " 0.0,\n",
              " 0.0,\n",
              " 0.0,\n",
              " 0.0,\n",
              " 0.0,\n",
              " 0.0,\n",
              " 0.0,\n",
              " 0.0,\n",
              " 0.0,\n",
              " 0.0,\n",
              " 0.0,\n",
              " 0.0,\n",
              " 0.0,\n",
              " 0.0,\n",
              " 0.0,\n",
              " 0.0,\n",
              " 0.0,\n",
              " 0.0,\n",
              " 0.0,\n",
              " 0.0,\n",
              " 0.0,\n",
              " 1.2,\n",
              " 0.0,\n",
              " 0.28,\n",
              " 0.0,\n",
              " 0.0,\n",
              " 0.0,\n",
              " 0.14,\n",
              " 0.0,\n",
              " 0.0,\n",
              " 0.0,\n",
              " 0.0,\n",
              " 0.0,\n",
              " 0.0,\n",
              " 0.0,\n",
              " 0.0,\n",
              " 1.54,\n",
              " 0.0,\n",
              " 0.0,\n",
              " 0.0,\n",
              " 0.0,\n",
              " 0.0,\n",
              " 0.06,\n",
              " 0.0,\n",
              " 0.0,\n",
              " 0.0,\n",
              " 0.0,\n",
              " 0.0,\n",
              " 0.0,\n",
              " 0.0,\n",
              " 0.0,\n",
              " 2.16,\n",
              " 0.0,\n",
              " 0.0,\n",
              " 0.0,\n",
              " 0.0,\n",
              " 0.0,\n",
              " 0.0,\n",
              " 0.0,\n",
              " 0.0,\n",
              " 0.0,\n",
              " 0.0,\n",
              " 0.0,\n",
              " 0.0,\n",
              " 0.0,\n",
              " 0.0,\n",
              " 0.48,\n",
              " 0.0,\n",
              " 0.0,\n",
              " 1.44,\n",
              " 0.0,\n",
              " 3.78,\n",
              " 0.15,\n",
              " 0.0,\n",
              " 0.0,\n",
              " 0.0,\n",
              " 0.0,\n",
              " 0.05,\n",
              " 0.28,\n",
              " 0.0,\n",
              " 0.0,\n",
              " 0.0,\n",
              " 0.0,\n",
              " 0.44,\n",
              " 0.0,\n",
              " 0.0,\n",
              " 0.0,\n",
              " 0.0,\n",
              " 0.0,\n",
              " 3.96,\n",
              " 0.0,\n",
              " 0.16,\n",
              " 0.0,\n",
              " 0.0,\n",
              " 0.0,\n",
              " 0.0,\n",
              " 0.0,\n",
              " 0.0,\n",
              " 0.0,\n",
              " 0.0,\n",
              " 0.0,\n",
              " 0.0,\n",
              " 0.0,\n",
              " 0.0,\n",
              " 0.0,\n",
              " 0.0,\n",
              " 0.0,\n",
              " 0.0,\n",
              " 0.0,\n",
              " 0.0,\n",
              " 0.0,\n",
              " 0.0,\n",
              " 0.0,\n",
              " 0.0,\n",
              " 0.0,\n",
              " 0.0,\n",
              " 0.0,\n",
              " 0.0,\n",
              " 0.0,\n",
              " 0.0,\n",
              " 0.0,\n",
              " 0.0,\n",
              " 0.0,\n",
              " 0.52,\n",
              " 0.0,\n",
              " 0.0,\n",
              " 0.0,\n",
              " 0.0,\n",
              " 0.44,\n",
              " 0.0,\n",
              " 0.0,\n",
              " 1.32]"
            ]
          },
          "metadata": {
            "tags": []
          },
          "execution_count": 72
        }
      ]
    },
    {
      "metadata": {
        "id": "w8iGFKnKKCvE",
        "colab_type": "code",
        "colab": {
          "base_uri": "https://localhost:8080/",
          "height": 1717
        },
        "outputId": "5248c47f-f2c8-4af3-af8f-a7c0d867138d"
      },
      "cell_type": "code",
      "source": [
        "v_pop"
      ],
      "execution_count": 73,
      "outputs": [
        {
          "output_type": "execute_result",
          "data": {
            "text/plain": [
              "[[41, 13, 67, 51, 29],\n",
              " [41, 13, 67, 51, 29],\n",
              " [41, 13, 67, 51, 29],\n",
              " [41, 13, 67, 51, 29],\n",
              " [41, 13, 67, 51, 29],\n",
              " [41, 13, 67, 51, 29],\n",
              " [41, 13, 67, 51, 29],\n",
              " [41, 13, 67, 51, 29],\n",
              " [41, 13, 67, 51, 29],\n",
              " [41, 13, 67, 51, 29],\n",
              " [41, 13, 67, 51, 29],\n",
              " [41, 13, 67, 51, 29],\n",
              " [41, 13, 67, 51, 29],\n",
              " [41, 13, 67, 51, 62],\n",
              " [41, 13, 67, 51, 29],\n",
              " [41, 13, 67, 51, 29],\n",
              " [41, 13, 67, 51, 29],\n",
              " [41, 13, 67, 51, 29],\n",
              " [41, 13, 67, 51, 29],\n",
              " [41, 13, 67, 51, 29],\n",
              " [41, 13, 67, 51, 29],\n",
              " [41, 13, 67, 51, 29],\n",
              " [41, 13, 67, 51, 29],\n",
              " [41, 13, 67, 51, 62],\n",
              " [41, 13, 67, 51, 29],\n",
              " [41, 13, 67, 51, 29],\n",
              " [41, 13, 67, 51, 29],\n",
              " [41, 13, 67, 51, 29],\n",
              " [41, 13, 67, 51, 29],\n",
              " [41, 13, 67, 51, 29],\n",
              " [41, 13, 67, 51, 29],\n",
              " [41, 13, 67, 51, 29],\n",
              " [41, 13, 67, 51, 29],\n",
              " [41, 13, 67, 51, 29],\n",
              " [41, 13, 67, 51, 29],\n",
              " [41, 13, 67, 51, 29],\n",
              " [41, 13, 67, 51, 29],\n",
              " [41, 13, 67, 51, 29],\n",
              " [41, 13, 67, 51, 29],\n",
              " [41, 13, 67, 51, 29],\n",
              " [41, 13, 67, 51, 29],\n",
              " [41, 13, 67, 51, 29],\n",
              " [41, 13, 67, 51, 29],\n",
              " [41, 13, 67, 51, 29],\n",
              " [41, 13, 67, 51, 29],\n",
              " [41, 13, 67, 51, 29],\n",
              " [41, 13, 67, 51, 29],\n",
              " [41, 13, 67, 51, 29],\n",
              " [41, 13, 67, 51, 29],\n",
              " [41, 13, 67, 51, 29],\n",
              " [41, 13, 67, 51, 29],\n",
              " [41, 13, 67, 51, 29],\n",
              " [41, 13, 67, 51, 29],\n",
              " [41, 13, 67, 51, 29],\n",
              " [41, 13, 67, 51, 29],\n",
              " [41, 13, 67, 51, 29],\n",
              " [41, 13, 67, 51, 29],\n",
              " [41, 13, 67, 51, 29],\n",
              " [41, 13, 67, 51, 29],\n",
              " [41, 13, 67, 51, 29],\n",
              " [41, 13, 67, 51, 29],\n",
              " [41, 13, 67, 51, 29],\n",
              " [41, 13, 67, 51, 29],\n",
              " [41, 13, 67, 51, 29],\n",
              " [41, 13, 67, 51, 29],\n",
              " [41, 13, 67, 51, 29],\n",
              " [41, 13, 67, 51, 29],\n",
              " [41, 13, 67, 51, 29],\n",
              " [41, 13, 67, 51, 29],\n",
              " [41, 13, 67, 51, 29],\n",
              " [41, 13, 67, 51, 29],\n",
              " [41, 13, 67, 51, 29],\n",
              " [41, 13, 67, 51, 29],\n",
              " [41, 13, 67, 51, 29],\n",
              " [41, 13, 67, 51, 29],\n",
              " [41, 13, 67, 51, 29],\n",
              " [41, 13, 67, 51, 29],\n",
              " [41, 13, 67, 51, 29],\n",
              " [41, 13, 67, 51, 29],\n",
              " [41, 13, 67, 51, 29],\n",
              " [41, 13, 67, 51, 29],\n",
              " [41, 13, 67, 51, 29],\n",
              " [41, 13, 67, 51, 29],\n",
              " [41, 13, 67, 51, 29],\n",
              " [41, 13, 67, 51, 29],\n",
              " [41, 13, 67, 51, 29],\n",
              " [41, 13, 67, 51, 29],\n",
              " [41, 13, 67, 51, 29],\n",
              " [41, 13, 67, 51, 29],\n",
              " [41, 13, 67, 51, 29],\n",
              " [41, 13, 67, 51, 62],\n",
              " [41, 13, 67, 51, 29],\n",
              " [41, 13, 67, 51, 29],\n",
              " [41, 13, 67, 51, 29],\n",
              " [41, 13, 67, 51, 62],\n",
              " [41, 13, 67, 51, 29],\n",
              " [41, 13, 67, 51, 29],\n",
              " [41, 13, 67, 51, 29],\n",
              " [41, 13, 67, 51, 29],\n",
              " [41, 13, 67, 51, 29]]"
            ]
          },
          "metadata": {
            "tags": []
          },
          "execution_count": 73
        }
      ]
    },
    {
      "metadata": {
        "id": "i946gcGhKFf0",
        "colab_type": "code",
        "colab": {
          "base_uri": "https://localhost:8080/",
          "height": 102
        },
        "outputId": "648df02e-4456-41d9-9c62-4b076509540f"
      },
      "cell_type": "code",
      "source": [
        "vishal = 0\n",
        "for x in v_pop:\n",
        "  if sum(x) == target:\n",
        "    vishal += 1\n",
        "  else:\n",
        "    print(x)\n",
        "  \n",
        "print(vishal/len(v_pop)*100)"
      ],
      "execution_count": 79,
      "outputs": [
        {
          "output_type": "stream",
          "text": [
            "[41, 13, 67, 51, 62]\n",
            "[41, 13, 67, 51, 62]\n",
            "[41, 13, 67, 51, 62]\n",
            "[41, 13, 67, 51, 62]\n",
            "96.0\n"
          ],
          "name": "stdout"
        }
      ]
    }
  ]
}